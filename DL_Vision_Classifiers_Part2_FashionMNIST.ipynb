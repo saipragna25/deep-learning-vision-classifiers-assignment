{
  "nbformat": 4,
  "nbformat_minor": 0,
  "metadata": {
    "colab": {
      "provenance": [],
      "authorship_tag": "ABX9TyPKEeyKqcNDSFHAQJDXHanM",
      "include_colab_link": true
    },
    "kernelspec": {
      "name": "python3",
      "display_name": "Python 3"
    },
    "language_info": {
      "name": "python"
    }
  },
  "cells": [
    {
      "cell_type": "markdown",
      "metadata": {
        "id": "view-in-github",
        "colab_type": "text"
      },
      "source": [
        "<a href=\"https://colab.research.google.com/github/saipragna25/deep-learning-vision-classifiers-assignment/blob/main/DL_Vision_Classifiers_Part2_FashionMNIST.ipynb\" target=\"_parent\"><img src=\"https://colab.research.google.com/assets/colab-badge.svg\" alt=\"Open In Colab\"/></a>"
      ]
    },
    {
      "cell_type": "markdown",
      "source": [
        "Image Augmentation"
      ],
      "metadata": {
        "id": "vAmsfzWLLZvh"
      }
    },
    {
      "cell_type": "code",
      "source": [
        "from tensorflow.keras.datasets import fashion_mnist\n",
        "from tensorflow.keras.preprocessing.image import ImageDataGenerator\n",
        "import matplotlib.pyplot as plt\n",
        "\n",
        "# Load the CIFAR-10 dataset\n",
        "(x_train, y_train), (x_test, y_test) = fashion_mnist.load_data()\n",
        "\n",
        "# Normalize pixel values to be between 0 and 1\n",
        "x_train, x_test = x_train / 255.0, x_test / 255.0\n",
        "\n",
        "# Create an ImageDataGenerator object\n",
        "datagen = ImageDataGenerator(\n",
        "    rotation_range=15,  # randomly rotate images in the range (degrees, 0 to 180)\n",
        "    zoom_range=0.1,  # Randomly zoom image \n",
        "    width_shift_range=0.1,  # randomly shift images horizontally (fraction of total width)\n",
        "    height_shift_range=0.1,  # randomly shift images vertically (fraction of total height)\n",
        "    horizontal_flip=True,  # randomly flip images\n",
        ")\n",
        "\n",
        "# fit parameters from data\n",
        "datagen.fit(x_train)\n",
        "\n",
        "# configure batch size and retrieve one batch of images\n",
        "for X_batch, y_batch in datagen.flow(x_train, y_train, batch_size=9):\n",
        "    # create a grid of 3x3 images\n",
        "    for i in range(0, 9):\n",
        "        plt.subplot(330 + 1 + i)\n",
        "        plt.imshow(X_batch[i], interpolation='none')\n",
        "    # show the plot\n",
        "    plt.show()\n",
        "    break\n"
      ],
      "metadata": {
        "id": "uy8IcX1gLZP5"
      },
      "execution_count": null,
      "outputs": []
    },
    {
      "cell_type": "markdown",
      "source": [
        "BiT"
      ],
      "metadata": {
        "id": "j7lTh8tRGRUP"
      }
    },
    {
      "cell_type": "code",
      "execution_count": null,
      "metadata": {
        "colab": {
          "base_uri": "https://localhost:8080/"
        },
        "id": "-ume6gR5F-iS",
        "outputId": "9a53d0e9-b5cc-49f3-fe94-8a822cd42ca8"
      },
      "outputs": [
        {
          "output_type": "stream",
          "name": "stdout",
          "text": [
            "Downloading data from https://storage.googleapis.com/tensorflow/tf-keras-datasets/train-labels-idx1-ubyte.gz\n",
            "29515/29515 [==============================] - 0s 0us/step\n",
            "Downloading data from https://storage.googleapis.com/tensorflow/tf-keras-datasets/train-images-idx3-ubyte.gz\n",
            "26421880/26421880 [==============================] - 2s 0us/step\n",
            "Downloading data from https://storage.googleapis.com/tensorflow/tf-keras-datasets/t10k-labels-idx1-ubyte.gz\n",
            "5148/5148 [==============================] - 0s 0us/step\n",
            "Downloading data from https://storage.googleapis.com/tensorflow/tf-keras-datasets/t10k-images-idx3-ubyte.gz\n",
            "4422102/4422102 [==============================] - 1s 0us/step\n",
            "Epoch 1/5\n",
            "1875/1875 [==============================] - 589s 306ms/step - loss: 0.7943 - accuracy: 0.7762\n",
            "Epoch 2/5\n",
            "1875/1875 [==============================] - 570s 304ms/step - loss: 0.6013 - accuracy: 0.8240\n",
            "Epoch 3/5\n",
            "1875/1875 [==============================] - 584s 311ms/step - loss: 0.5678 - accuracy: 0.8356\n",
            "Epoch 4/5\n",
            "1501/1875 [=======================>......] - ETA: 1:53 - loss: 0.5309 - accuracy: 0.8427"
          ]
        }
      ],
      "source": [
        "import tensorflow as tf\n",
        "import tensorflow_hub as hub\n",
        "from tensorflow.keras import layers, models\n",
        "\n",
        "# Load the Fashion MNIST dataset\n",
        "(x_train, y_train), (x_test, y_test) = tf.keras.datasets.fashion_mnist.load_data()\n",
        "\n",
        "# Reshape the data to include a channel dimension\n",
        "x_train = x_train.reshape((-1, 28, 28, 1))\n",
        "x_test = x_test.reshape((-1, 28, 28, 1))\n",
        "\n",
        "# BiT model URL\n",
        "bit_url = \"https://tfhub.dev/google/bit/m-r50x1/1\"\n",
        "bit = hub.KerasLayer(bit_url, input_shape=(32, 32, 3), trainable=False)  # We keep the BiT model frozen\n",
        "\n",
        "model_bit = models.Sequential([\n",
        "    layers.Input(shape=(28, 28, 1)),\n",
        "    layers.experimental.preprocessing.Rescaling(1./255),\n",
        "    layers.experimental.preprocessing.Resizing(32, 32),  # Resize images to match BiT model input shape\n",
        "    layers.Lambda(lambda x: tf.repeat(x, 3, -1)),  # Repeat grayscale channel to create 3-channel images\n",
        "    bit,\n",
        "    layers.Dense(10, activation='softmax')\n",
        "])\n",
        "\n",
        "model_bit.compile(optimizer='adam', loss='sparse_categorical_crossentropy', metrics=['accuracy'])\n",
        "\n",
        "model_bit.fit(x_train, y_train, epochs=5)\n"
      ]
    },
    {
      "cell_type": "markdown",
      "source": [
        "Mlp-mixer"
      ],
      "metadata": {
        "id": "npWxtY2lVD3I"
      }
    },
    {
      "cell_type": "code",
      "source": [
        "!pip install mlp-mixer-keras"
      ],
      "metadata": {
        "id": "hejqCjJUWViq",
        "outputId": "99b9b881-c79a-4732-d220-ed41d5b88d93",
        "colab": {
          "base_uri": "https://localhost:8080/"
        }
      },
      "execution_count": 3,
      "outputs": [
        {
          "output_type": "stream",
          "name": "stdout",
          "text": [
            "Looking in indexes: https://pypi.org/simple, https://us-python.pkg.dev/colab-wheels/public/simple/\n",
            "Collecting mlp-mixer-keras\n",
            "  Downloading mlp-mixer-keras-0.0.5.tar.gz (4.4 kB)\n",
            "  Preparing metadata (setup.py) ... \u001b[?25l\u001b[?25hdone\n",
            "Requirement already satisfied: tensorflow>=2.1 in /usr/local/lib/python3.10/dist-packages (from mlp-mixer-keras) (2.12.0)\n",
            "Requirement already satisfied: absl-py>=1.0.0 in /usr/local/lib/python3.10/dist-packages (from tensorflow>=2.1->mlp-mixer-keras) (1.4.0)\n",
            "Requirement already satisfied: astunparse>=1.6.0 in /usr/local/lib/python3.10/dist-packages (from tensorflow>=2.1->mlp-mixer-keras) (1.6.3)\n",
            "Requirement already satisfied: flatbuffers>=2.0 in /usr/local/lib/python3.10/dist-packages (from tensorflow>=2.1->mlp-mixer-keras) (23.3.3)\n",
            "Requirement already satisfied: gast<=0.4.0,>=0.2.1 in /usr/local/lib/python3.10/dist-packages (from tensorflow>=2.1->mlp-mixer-keras) (0.4.0)\n",
            "Requirement already satisfied: google-pasta>=0.1.1 in /usr/local/lib/python3.10/dist-packages (from tensorflow>=2.1->mlp-mixer-keras) (0.2.0)\n",
            "Requirement already satisfied: grpcio<2.0,>=1.24.3 in /usr/local/lib/python3.10/dist-packages (from tensorflow>=2.1->mlp-mixer-keras) (1.54.0)\n",
            "Requirement already satisfied: h5py>=2.9.0 in /usr/local/lib/python3.10/dist-packages (from tensorflow>=2.1->mlp-mixer-keras) (3.8.0)\n",
            "Requirement already satisfied: jax>=0.3.15 in /usr/local/lib/python3.10/dist-packages (from tensorflow>=2.1->mlp-mixer-keras) (0.4.8)\n",
            "Requirement already satisfied: keras<2.13,>=2.12.0 in /usr/local/lib/python3.10/dist-packages (from tensorflow>=2.1->mlp-mixer-keras) (2.12.0)\n",
            "Requirement already satisfied: libclang>=13.0.0 in /usr/local/lib/python3.10/dist-packages (from tensorflow>=2.1->mlp-mixer-keras) (16.0.0)\n",
            "Requirement already satisfied: numpy<1.24,>=1.22 in /usr/local/lib/python3.10/dist-packages (from tensorflow>=2.1->mlp-mixer-keras) (1.22.4)\n",
            "Requirement already satisfied: opt-einsum>=2.3.2 in /usr/local/lib/python3.10/dist-packages (from tensorflow>=2.1->mlp-mixer-keras) (3.3.0)\n",
            "Requirement already satisfied: packaging in /usr/local/lib/python3.10/dist-packages (from tensorflow>=2.1->mlp-mixer-keras) (23.1)\n",
            "Requirement already satisfied: protobuf!=4.21.0,!=4.21.1,!=4.21.2,!=4.21.3,!=4.21.4,!=4.21.5,<5.0.0dev,>=3.20.3 in /usr/local/lib/python3.10/dist-packages (from tensorflow>=2.1->mlp-mixer-keras) (3.20.3)\n",
            "Requirement already satisfied: setuptools in /usr/local/lib/python3.10/dist-packages (from tensorflow>=2.1->mlp-mixer-keras) (67.7.2)\n",
            "Requirement already satisfied: six>=1.12.0 in /usr/local/lib/python3.10/dist-packages (from tensorflow>=2.1->mlp-mixer-keras) (1.16.0)\n",
            "Requirement already satisfied: tensorboard<2.13,>=2.12 in /usr/local/lib/python3.10/dist-packages (from tensorflow>=2.1->mlp-mixer-keras) (2.12.2)\n",
            "Requirement already satisfied: tensorflow-estimator<2.13,>=2.12.0 in /usr/local/lib/python3.10/dist-packages (from tensorflow>=2.1->mlp-mixer-keras) (2.12.0)\n",
            "Requirement already satisfied: termcolor>=1.1.0 in /usr/local/lib/python3.10/dist-packages (from tensorflow>=2.1->mlp-mixer-keras) (2.3.0)\n",
            "Requirement already satisfied: typing-extensions>=3.6.6 in /usr/local/lib/python3.10/dist-packages (from tensorflow>=2.1->mlp-mixer-keras) (4.5.0)\n",
            "Requirement already satisfied: wrapt<1.15,>=1.11.0 in /usr/local/lib/python3.10/dist-packages (from tensorflow>=2.1->mlp-mixer-keras) (1.14.1)\n",
            "Requirement already satisfied: tensorflow-io-gcs-filesystem>=0.23.1 in /usr/local/lib/python3.10/dist-packages (from tensorflow>=2.1->mlp-mixer-keras) (0.32.0)\n",
            "Requirement already satisfied: wheel<1.0,>=0.23.0 in /usr/local/lib/python3.10/dist-packages (from astunparse>=1.6.0->tensorflow>=2.1->mlp-mixer-keras) (0.40.0)\n",
            "Requirement already satisfied: ml-dtypes>=0.0.3 in /usr/local/lib/python3.10/dist-packages (from jax>=0.3.15->tensorflow>=2.1->mlp-mixer-keras) (0.1.0)\n",
            "Requirement already satisfied: scipy>=1.7 in /usr/local/lib/python3.10/dist-packages (from jax>=0.3.15->tensorflow>=2.1->mlp-mixer-keras) (1.10.1)\n",
            "Requirement already satisfied: google-auth<3,>=1.6.3 in /usr/local/lib/python3.10/dist-packages (from tensorboard<2.13,>=2.12->tensorflow>=2.1->mlp-mixer-keras) (2.17.3)\n",
            "Requirement already satisfied: google-auth-oauthlib<1.1,>=0.5 in /usr/local/lib/python3.10/dist-packages (from tensorboard<2.13,>=2.12->tensorflow>=2.1->mlp-mixer-keras) (1.0.0)\n",
            "Requirement already satisfied: markdown>=2.6.8 in /usr/local/lib/python3.10/dist-packages (from tensorboard<2.13,>=2.12->tensorflow>=2.1->mlp-mixer-keras) (3.4.3)\n",
            "Requirement already satisfied: requests<3,>=2.21.0 in /usr/local/lib/python3.10/dist-packages (from tensorboard<2.13,>=2.12->tensorflow>=2.1->mlp-mixer-keras) (2.27.1)\n",
            "Requirement already satisfied: tensorboard-data-server<0.8.0,>=0.7.0 in /usr/local/lib/python3.10/dist-packages (from tensorboard<2.13,>=2.12->tensorflow>=2.1->mlp-mixer-keras) (0.7.0)\n",
            "Requirement already satisfied: tensorboard-plugin-wit>=1.6.0 in /usr/local/lib/python3.10/dist-packages (from tensorboard<2.13,>=2.12->tensorflow>=2.1->mlp-mixer-keras) (1.8.1)\n",
            "Requirement already satisfied: werkzeug>=1.0.1 in /usr/local/lib/python3.10/dist-packages (from tensorboard<2.13,>=2.12->tensorflow>=2.1->mlp-mixer-keras) (2.3.0)\n",
            "Requirement already satisfied: cachetools<6.0,>=2.0.0 in /usr/local/lib/python3.10/dist-packages (from google-auth<3,>=1.6.3->tensorboard<2.13,>=2.12->tensorflow>=2.1->mlp-mixer-keras) (5.3.0)\n",
            "Requirement already satisfied: pyasn1-modules>=0.2.1 in /usr/local/lib/python3.10/dist-packages (from google-auth<3,>=1.6.3->tensorboard<2.13,>=2.12->tensorflow>=2.1->mlp-mixer-keras) (0.3.0)\n",
            "Requirement already satisfied: rsa<5,>=3.1.4 in /usr/local/lib/python3.10/dist-packages (from google-auth<3,>=1.6.3->tensorboard<2.13,>=2.12->tensorflow>=2.1->mlp-mixer-keras) (4.9)\n",
            "Requirement already satisfied: requests-oauthlib>=0.7.0 in /usr/local/lib/python3.10/dist-packages (from google-auth-oauthlib<1.1,>=0.5->tensorboard<2.13,>=2.12->tensorflow>=2.1->mlp-mixer-keras) (1.3.1)\n",
            "Requirement already satisfied: urllib3<1.27,>=1.21.1 in /usr/local/lib/python3.10/dist-packages (from requests<3,>=2.21.0->tensorboard<2.13,>=2.12->tensorflow>=2.1->mlp-mixer-keras) (1.26.15)\n",
            "Requirement already satisfied: certifi>=2017.4.17 in /usr/local/lib/python3.10/dist-packages (from requests<3,>=2.21.0->tensorboard<2.13,>=2.12->tensorflow>=2.1->mlp-mixer-keras) (2022.12.7)\n",
            "Requirement already satisfied: charset-normalizer~=2.0.0 in /usr/local/lib/python3.10/dist-packages (from requests<3,>=2.21.0->tensorboard<2.13,>=2.12->tensorflow>=2.1->mlp-mixer-keras) (2.0.12)\n",
            "Requirement already satisfied: idna<4,>=2.5 in /usr/local/lib/python3.10/dist-packages (from requests<3,>=2.21.0->tensorboard<2.13,>=2.12->tensorflow>=2.1->mlp-mixer-keras) (3.4)\n",
            "Requirement already satisfied: MarkupSafe>=2.1.1 in /usr/local/lib/python3.10/dist-packages (from werkzeug>=1.0.1->tensorboard<2.13,>=2.12->tensorflow>=2.1->mlp-mixer-keras) (2.1.2)\n",
            "Requirement already satisfied: pyasn1<0.6.0,>=0.4.6 in /usr/local/lib/python3.10/dist-packages (from pyasn1-modules>=0.2.1->google-auth<3,>=1.6.3->tensorboard<2.13,>=2.12->tensorflow>=2.1->mlp-mixer-keras) (0.5.0)\n",
            "Requirement already satisfied: oauthlib>=3.0.0 in /usr/local/lib/python3.10/dist-packages (from requests-oauthlib>=0.7.0->google-auth-oauthlib<1.1,>=0.5->tensorboard<2.13,>=2.12->tensorflow>=2.1->mlp-mixer-keras) (3.2.2)\n",
            "Building wheels for collected packages: mlp-mixer-keras\n",
            "  Building wheel for mlp-mixer-keras (setup.py) ... \u001b[?25l\u001b[?25hdone\n",
            "  Created wheel for mlp-mixer-keras: filename=mlp_mixer_keras-0.0.5-py3-none-any.whl size=4668 sha256=2114d559d2b28824de8ccccd3e72100abea3d2bf85c1d261ea17fa7e8067b36f\n",
            "  Stored in directory: /root/.cache/pip/wheels/aa/c3/43/8a4e96dee3c42c2e8c233e502aa9e8056be939b0e3172aedd9\n",
            "Successfully built mlp-mixer-keras\n",
            "Installing collected packages: mlp-mixer-keras\n",
            "Successfully installed mlp-mixer-keras-0.0.5\n"
          ]
        }
      ]
    },
    {
      "cell_type": "code",
      "source": [
        "from mlp_mixer_keras import MlpMixerModel\n",
        "import numpy as np\n",
        "import tensorflow as tf\n",
        "\n",
        "(x_train, y_train), (x_test, y_test) = tf.keras.datasets.fashion_mnist.load_data()\n",
        "x_train = np.expand_dims(x_train, -1)\n",
        "x_test = np.expand_dims(x_test, -1)\n",
        "\n",
        "# Resize the images to 32x32\n",
        "x_train = tf.image.resize(x_train, [32, 32])\n",
        "x_test = tf.image.resize(x_test, [32, 32])\n",
        "\n",
        "model = MlpMixerModel(input_shape=x_train.shape[1:],\n",
        "                      num_classes=len(np.unique(y_train)), \n",
        "                      num_blocks=4, \n",
        "                      patch_size=8,\n",
        "                      hidden_dim=32, \n",
        "                      tokens_mlp_dim=64,\n",
        "                      channels_mlp_dim=128,\n",
        "                      use_softmax=True)\n",
        "\n",
        "model.compile(loss='sparse_categorical_crossentropy', metrics='acc')\n",
        "model.fit(x_train, y_train, validation_data=(x_test, y_test))\n"
      ],
      "metadata": {
        "id": "xLFQR24UWSrQ",
        "outputId": "70cf5660-7f9e-41ef-97d4-b4d0a6aa441e",
        "colab": {
          "base_uri": "https://localhost:8080/"
        }
      },
      "execution_count": 4,
      "outputs": [
        {
          "output_type": "stream",
          "name": "stdout",
          "text": [
            "1875/1875 [==============================] - 79s 36ms/step - loss: 0.7715 - acc: 0.7293 - val_loss: 0.5217 - val_acc: 0.8089\n"
          ]
        },
        {
          "output_type": "execute_result",
          "data": {
            "text/plain": [
              "<keras.callbacks.History at 0x7f6e6ab6b5b0>"
            ]
          },
          "metadata": {},
          "execution_count": 4
        }
      ]
    }
  ]
}